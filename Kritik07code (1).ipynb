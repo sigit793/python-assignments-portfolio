{
 "cells": [
  {
   "cell_type": "code",
   "execution_count": 12,
   "id": "6e986144-5448-4b97-920c-9631ea81404d",
   "metadata": {},
   "outputs": [
    {
     "name": "stdout",
     "output_type": "stream",
     "text": [
      "Sample Mean: 82.382\n",
      "Sample Standard Deviation: 10.193467189005581\n",
      "t0: 2.290087686017293\n",
      "Critical t* value: 2.2522252225222523\n",
      "The null hypothesis is rejected becaue the average score is significantly different from 75.\n"
     ]
    }
   ],
   "source": [
    "import numpy as np\n",
    "from scipy.special import gamma\n",
    "\n",
    "# Define the t-distribution \n",
    "def t_distribution_pdf(x, nu):\n",
    "    \n",
    "    coeff = gamma((nu + 1) / 2) / (np.sqrt(nu * np.pi) * gamma(nu / 2))\n",
    "    density = coeff * (1 + x**2 / nu) ** (-0.5 * (nu + 1))\n",
    "    return density\n",
    "\n",
    "#Function to calculate the mean and standard deviation \n",
    "def calculate_mean_and_std(data):\n",
    "   \n",
    "    n = len(data)  \n",
    "    mean = sum(data) / n  \n",
    "    variance = sum((x - mean) ** 2 for x in data) / (n - 1) \n",
    "    std_dev = np.sqrt(variance)  \n",
    "    return mean, std_dev\n",
    "\n",
    "# Function for the t-statistic (t0)\n",
    "def compute_t_statistic(mean, mu_0, std_dev, n):\n",
    "\n",
    "    t0 = (mean - mu_0) / (std_dev / np.sqrt(n))\n",
    "    return t0\n",
    "\n",
    "# Function for the t* \n",
    "def find_t_star(prob, nu, x_start=0, x_end=20, num_points=10000):\n",
    "    \n",
    "    # Define the x values\n",
    "    x = np.linspace(x_start, x_end, num_points)\n",
    "    y = t_distribution_pdf(x, nu)  \n",
    "    cdf = np.cumsum(y) * (x[1] - x[0])  \n",
    "    \n",
    "    # Find the t-value when it reaches the value\n",
    "    target_half_prob = prob / 2\n",
    "    index = np.where(cdf >= target_half_prob)[0][0]\n",
    "    return x[index]\n",
    "\n",
    "#  Function to check if t0 is within [-t*, t*]\n",
    "def is_within_critical_range(t0, t_star):\n",
    " \n",
    "    return abs(t0) <= t_star\n",
    "\n",
    "# Main function for hypothesis testing\n",
    "def t_test(data, mu_0=75, confidence_level=0.95):\n",
    "  \n",
    "    n = len(data)  # Sample size\n",
    "    mean, std_dev = calculate_mean_and_std(data) \n",
    "    t0 = compute_t_statistic(mean, mu_0, std_dev, n)  \n",
    "    \n",
    "    df = n - 1  # Degrees of freedom \n",
    "    t_star = find_t_star(confidence_level, df)  # Find critical t-value for given confidence level\n",
    "    \n",
    "    \n",
    "    is_accepted = is_within_critical_range(t0, t_star)\n",
    "    \n",
    "    # Print results\n",
    "    print(f\"Sample Mean: {mean}\")\n",
    "    print(f\"Sample Standard Deviation: {std_dev}\")\n",
    "    print(f\"t0: {t0}\")\n",
    "    print(f\"Critical t* value: {t_star}\")\n",
    "   \n",
    "    \n",
    "    if is_accepted:\n",
    "        print(\"The null hypothesis is accepted since the average score is 75.\")\n",
    "    else:\n",
    "        print(\"The null hypothesis is rejected becaue the average score is significantly different from 75.\")\n",
    "\n",
    "\n",
    "data = [92.64, 79.00, 84.79, 97.41, 93.68, 65.23, 84.50, 73.49, 73.97, 79.11]\n",
    "\n",
    "# Perform t-test \n",
    "t_test(data)\n"
   ]
  },
  {
   "cell_type": "code",
   "execution_count": null,
   "id": "48f34f3a-7bd3-430d-8b64-16d6ee0968f6",
   "metadata": {},
   "outputs": [],
   "source": []
  }
 ],
 "metadata": {
  "kernelspec": {
   "display_name": "Python 3 (ipykernel)",
   "language": "python",
   "name": "python3"
  },
  "language_info": {
   "codemirror_mode": {
    "name": "ipython",
    "version": 3
   },
   "file_extension": ".py",
   "mimetype": "text/x-python",
   "name": "python",
   "nbconvert_exporter": "python",
   "pygments_lexer": "ipython3",
   "version": "3.12.8"
  }
 },
 "nbformat": 4,
 "nbformat_minor": 5
}
