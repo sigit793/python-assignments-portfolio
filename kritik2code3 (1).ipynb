{
 "cells": [
  {
   "cell_type": "code",
   "execution_count": 2,
   "id": "1b907936-4849-439d-9fdd-97d8922d3613",
   "metadata": {},
   "outputs": [
    {
     "name": "stdout",
     "output_type": "stream",
     "text": [
      "Root of f1 on [0, 1]: 0.2698741375\n",
      "Root of f2 on [0, 2]: 1.9999999999\n",
      "Root of f3 on [3, 4]: 3.1415926536\n",
      "Root of f4 on [5, 7]: 6.9999999999\n"
     ]
    }
   ],
   "source": [
    "import numpy as np\n",
    "\n",
    "def bisection_method(f, a, b, tol=1e-10):\n",
    "    while (b - a) / 2.0 > tol:\n",
    "        midpoint = (a + b) / 2.0\n",
    "        if f(midpoint) == 0:\n",
    "            return midpoint  \n",
    "        elif f(a) * f(midpoint) < 0:\n",
    "            b = midpoint \n",
    "        else:\n",
    "            a = midpoint  \n",
    "    \n",
    "    return (a + b) / 2.0\n",
    "\n",
    "def roots(f, a, b):\n",
    "    return bisection_method(f, a, b)\n",
    "\n",
    "# Test cases\n",
    "def f1(x):\n",
    "    return np.exp(x) + np.log(x)\n",
    "\n",
    "def f2(x):\n",
    "    return np.arctan(x) - x**2\n",
    "\n",
    "def f3(x):\n",
    "    return np.sin(x) / np.log(x)\n",
    "\n",
    "def f4(x):\n",
    "    return np.log(np.cos(x))\n",
    "\n",
    "root1 = roots(f1, 0.00001, 1)\n",
    "root2 = roots(f2, 0, 2)\n",
    "root3 = roots(f3, 3, 4)\n",
    "root4 = roots(f4, 5, 7)\n",
    "\n",
    "print(f\"Root of f1 on [0, 1]: {root1:.10f}\")\n",
    "print(f\"Root of f2 on [0, 2]: {root2:.10f}\")\n",
    "print(f\"Root of f3 on [3, 4]: {root3:.10f}\")\n",
    "print(f\"Root of f4 on [5, 7]: {root4:.10f}\")\n"
   ]
  }
 ],
 "metadata": {
  "kernelspec": {
   "display_name": "Python 3 (ipykernel)",
   "language": "python",
   "name": "python3"
  },
  "language_info": {
   "codemirror_mode": {
    "name": "ipython",
    "version": 3
   },
   "file_extension": ".py",
   "mimetype": "text/x-python",
   "name": "python",
   "nbconvert_exporter": "python",
   "pygments_lexer": "ipython3",
   "version": "3.11.9"
  }
 },
 "nbformat": 4,
 "nbformat_minor": 5
}
