{
 "cells": [
  {
   "cell_type": "code",
   "execution_count": 2,
   "id": "0f8cb2cf-9821-460f-960c-d220e628533e",
   "metadata": {},
   "outputs": [
    {
     "name": "stdout",
     "output_type": "stream",
     "text": [
      "Function: <lambda>, c: 1, E: 0.1 -> x1, x2: Couldn't find x1 and x2 within the range.\n",
      "Function: <lambda>, c: 0.7853981633974483, E: 0.05 -> x1, x2: Couldn't find x1 and x2 within the range.\n",
      "Function: <lambda>, c: 0, E: 0.01 -> x1, x2: Couldn't find x1 and x2 within the range.\n"
     ]
    }
   ],
   "source": [
    "import numpy as np\n",
    "\n",
    "def central_diff(f, c):\n",
    "    delta = 1e-8\n",
    "    return (f(c + delta) - f(c - delta)) / (2 * delta)\n",
    "\n",
    "def linear_approx(f, f_prime, c, x):\n",
    "    return f(c) + f_prime * (x - c)\n",
    "\n",
    "def find_x1_x2(f, c, E):\n",
    "    f_prime = central_diff(f, c)\n",
    "    L = lambda x: linear_approx(f, f_prime, c, x)\n",
    "    \n",
    "    x1 = None\n",
    "    x2 = None\n",
    "    i = 1\n",
    "    while i < 1000:\n",
    "        x1_candidate = c - i * 1e-4\n",
    "        x2_candidate = c + i * 1e-4\n",
    "        \n",
    "        if abs(f(x1_candidate) - L(x1_candidate)) >= E and x1 is None:\n",
    "            x1 = x1_candidate\n",
    "        if abs(f(x2_candidate) - L(x2_candidate)) >= E and x2 is None:\n",
    "            x2 = x2_candidate\n",
    "        \n",
    "        if x1 is not None and x2 is not None:\n",
    "            break\n",
    "        \n",
    "        i += 1\n",
    "    \n",
    "    if x1 is None or x2 is None:\n",
    "        return \"Couldn't find x1 and x2 within the range.\"\n",
    "    \n",
    "    return x1, x2\n",
    "\n",
    "# Test cases\n",
    "def test():\n",
    "    funcs = [\n",
    "        (lambda x: x**2, 1, 0.1),\n",
    "        (lambda x: np.sin(x), np.pi/4, 0.05),\n",
    "        (lambda x: np.exp(x), 0, 0.01)\n",
    "    ]\n",
    "    \n",
    "    for f, c, E in funcs:\n",
    "        result = find_x1_x2(f, c, E)\n",
    "        print(f\"Function: {f.__name__}, c: {c}, E: {E} -> x1, x2: {result}\")\n",
    "\n",
    "test()\n"
   ]
  },
  {
   "cell_type": "code",
   "execution_count": 7,
   "id": "44199298-4b01-46d8-835a-5bfed60bb183",
   "metadata": {},
   "outputs": [
    {
     "name": "stdout",
     "output_type": "stream",
     "text": [
      "Function: <lambda>, c: 1, E: 0.1 -> x1, x2: (0.99999, 1.00001)\n",
      "Function: <lambda>, c: 0.7853981633974483, E: 0.05 -> x1, x2: (0.7853881633974483, 0.7854081633974482)\n",
      "Function: <lambda>, c: 0, E: 0.01 -> x1, x2: (-1e-05, 1e-05)\n"
     ]
    }
   ],
   "source": [
    "import numpy as np\n",
    "\n",
    "# Function to approximate the derivative using the central difference method\n",
    "def central_difference(f, c, delta=1e-8):\n",
    "    return (f(c + delta) - f(c - delta)) / (2 * delta)\n",
    "\n",
    "# Function to create the linear approximation\n",
    "def linear_approximation(f, f_prime, c, x):\n",
    "    return f(c) + f_prime * (x - c)\n",
    "\n",
    "# Function to find x1 and x2\n",
    "def find_x1_x2(f, c, E, search_range=0.1, step=1e-5, tolerance=1e-10):\n",
    "    # Approximate the derivative at c\n",
    "    f_prime = central_difference(f, c)\n",
    "    \n",
    "    # Initialize x1 and x2\n",
    "    x1, x2 = None, None\n",
    "    \n",
    "    # Search for x1 (less than c)\n",
    "    x = c - step\n",
    "    while x > c - search_range:\n",
    "        if abs(f(x) - linear_approximation(f, f_prime, c, x)) - E < tolerance:\n",
    "            x1 = x\n",
    "            break\n",
    "        x -= step\n",
    "    \n",
    "    # Search for x2 (greater than c)\n",
    "    x = c + step\n",
    "    while x < c + search_range:\n",
    "        if abs(f(x) - linear_approximation(f, f_prime, c, x)) - E < tolerance:\n",
    "            x2 = x\n",
    "            break\n",
    "        x += step\n",
    "    \n",
    "    # Return the results\n",
    "    if x1 is not None and x2 is not None:\n",
    "        return x1, x2\n",
    "    else:\n",
    "        return \"No such x1 and x2 found within the given range or iterations.\"\n",
    "\n",
    "# Test the function with different cases\n",
    "def test_cases():\n",
    "    # Define test functions and parameters\n",
    "    test_functions = [\n",
    "        (lambda x: x**2, 1, 0.1),\n",
    "        (lambda x: np.sin(x), np.pi/4, 0.05),\n",
    "        (lambda x: np.exp(x), 0, 0.01)\n",
    "    ]\n",
    "    \n",
    "    # Run the tests\n",
    "    for f, c, E in test_functions:\n",
    "        result = find_x1_x2(f, c, E)\n",
    "        print(f\"Function: {f.__name__}, c: {c}, E: {E} -> x1, x2: {result}\")\n",
    "\n",
    "# Run the test cases\n",
    "test_cases()\n"
   ]
  },
  {
   "cell_type": "code",
   "execution_count": null,
   "id": "f207981b-fe0a-44f1-a121-d9d533a61881",
   "metadata": {},
   "outputs": [],
   "source": []
  }
 ],
 "metadata": {
  "kernelspec": {
   "display_name": "Python 3 (ipykernel)",
   "language": "python",
   "name": "python3"
  },
  "language_info": {
   "codemirror_mode": {
    "name": "ipython",
    "version": 3
   },
   "file_extension": ".py",
   "mimetype": "text/x-python",
   "name": "python",
   "nbconvert_exporter": "python",
   "pygments_lexer": "ipython3",
   "version": "3.11.9"
  }
 },
 "nbformat": 4,
 "nbformat_minor": 5
}
